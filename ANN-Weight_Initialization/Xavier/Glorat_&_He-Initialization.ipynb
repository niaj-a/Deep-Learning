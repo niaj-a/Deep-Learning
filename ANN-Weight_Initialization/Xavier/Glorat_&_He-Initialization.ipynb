{
 "cells": [
  {
   "cell_type": "code",
   "id": "initial_id",
   "metadata": {
    "collapsed": true,
    "ExecuteTime": {
     "end_time": "2025-08-05T07:29:05.811370Z",
     "start_time": "2025-08-05T07:29:05.804558Z"
    }
   },
   "source": [
    "import numpy as np\n",
    "import pandas as pd\n",
    "import matplotlib.pyplot as plt"
   ],
   "outputs": [],
   "execution_count": 3
  },
  {
   "metadata": {
    "ExecuteTime": {
     "end_time": "2025-08-05T07:29:05.910860Z",
     "start_time": "2025-08-05T07:29:05.846559Z"
    }
   },
   "cell_type": "code",
   "source": [
    "df = pd.read_csv('ushape.csv', header=None)\n",
    "df"
   ],
   "id": "132e67dfd4657dd0",
   "outputs": [
    {
     "data": {
      "text/plain": [
       "           0         1    2\n",
       "0   0.031595  0.986988  0.0\n",
       "1   2.115098 -0.046244  1.0\n",
       "2   0.882490 -0.075756  0.0\n",
       "3  -0.055144 -0.037332  1.0\n",
       "4   0.829545 -0.539321  1.0\n",
       "..       ...       ...  ...\n",
       "95  1.699453  0.587720  1.0\n",
       "96  0.218623 -0.652521  1.0\n",
       "97  0.952914 -0.419766  1.0\n",
       "98 -1.318500  0.423112  0.0\n",
       "99 -1.296818  0.184147  0.0\n",
       "\n",
       "[100 rows x 3 columns]"
      ],
      "text/html": [
       "<div>\n",
       "<style scoped>\n",
       "    .dataframe tbody tr th:only-of-type {\n",
       "        vertical-align: middle;\n",
       "    }\n",
       "\n",
       "    .dataframe tbody tr th {\n",
       "        vertical-align: top;\n",
       "    }\n",
       "\n",
       "    .dataframe thead th {\n",
       "        text-align: right;\n",
       "    }\n",
       "</style>\n",
       "<table border=\"1\" class=\"dataframe\">\n",
       "  <thead>\n",
       "    <tr style=\"text-align: right;\">\n",
       "      <th></th>\n",
       "      <th>0</th>\n",
       "      <th>1</th>\n",
       "      <th>2</th>\n",
       "    </tr>\n",
       "  </thead>\n",
       "  <tbody>\n",
       "    <tr>\n",
       "      <th>0</th>\n",
       "      <td>0.031595</td>\n",
       "      <td>0.986988</td>\n",
       "      <td>0.0</td>\n",
       "    </tr>\n",
       "    <tr>\n",
       "      <th>1</th>\n",
       "      <td>2.115098</td>\n",
       "      <td>-0.046244</td>\n",
       "      <td>1.0</td>\n",
       "    </tr>\n",
       "    <tr>\n",
       "      <th>2</th>\n",
       "      <td>0.882490</td>\n",
       "      <td>-0.075756</td>\n",
       "      <td>0.0</td>\n",
       "    </tr>\n",
       "    <tr>\n",
       "      <th>3</th>\n",
       "      <td>-0.055144</td>\n",
       "      <td>-0.037332</td>\n",
       "      <td>1.0</td>\n",
       "    </tr>\n",
       "    <tr>\n",
       "      <th>4</th>\n",
       "      <td>0.829545</td>\n",
       "      <td>-0.539321</td>\n",
       "      <td>1.0</td>\n",
       "    </tr>\n",
       "    <tr>\n",
       "      <th>...</th>\n",
       "      <td>...</td>\n",
       "      <td>...</td>\n",
       "      <td>...</td>\n",
       "    </tr>\n",
       "    <tr>\n",
       "      <th>95</th>\n",
       "      <td>1.699453</td>\n",
       "      <td>0.587720</td>\n",
       "      <td>1.0</td>\n",
       "    </tr>\n",
       "    <tr>\n",
       "      <th>96</th>\n",
       "      <td>0.218623</td>\n",
       "      <td>-0.652521</td>\n",
       "      <td>1.0</td>\n",
       "    </tr>\n",
       "    <tr>\n",
       "      <th>97</th>\n",
       "      <td>0.952914</td>\n",
       "      <td>-0.419766</td>\n",
       "      <td>1.0</td>\n",
       "    </tr>\n",
       "    <tr>\n",
       "      <th>98</th>\n",
       "      <td>-1.318500</td>\n",
       "      <td>0.423112</td>\n",
       "      <td>0.0</td>\n",
       "    </tr>\n",
       "    <tr>\n",
       "      <th>99</th>\n",
       "      <td>-1.296818</td>\n",
       "      <td>0.184147</td>\n",
       "      <td>0.0</td>\n",
       "    </tr>\n",
       "  </tbody>\n",
       "</table>\n",
       "<p>100 rows × 3 columns</p>\n",
       "</div>"
      ]
     },
     "execution_count": 4,
     "metadata": {},
     "output_type": "execute_result"
    }
   ],
   "execution_count": 4
  },
  {
   "metadata": {
    "ExecuteTime": {
     "end_time": "2025-08-05T07:29:18.341085Z",
     "start_time": "2025-08-05T07:29:18.309746Z"
    }
   },
   "cell_type": "code",
   "source": [
    "df.columns = ['X', 'Y', 'class']\n",
    "df"
   ],
   "id": "989e7bec13b82727",
   "outputs": [
    {
     "data": {
      "text/plain": [
       "           X         Y  class\n",
       "0   0.031595  0.986988    0.0\n",
       "1   2.115098 -0.046244    1.0\n",
       "2   0.882490 -0.075756    0.0\n",
       "3  -0.055144 -0.037332    1.0\n",
       "4   0.829545 -0.539321    1.0\n",
       "..       ...       ...    ...\n",
       "95  1.699453  0.587720    1.0\n",
       "96  0.218623 -0.652521    1.0\n",
       "97  0.952914 -0.419766    1.0\n",
       "98 -1.318500  0.423112    0.0\n",
       "99 -1.296818  0.184147    0.0\n",
       "\n",
       "[100 rows x 3 columns]"
      ],
      "text/html": [
       "<div>\n",
       "<style scoped>\n",
       "    .dataframe tbody tr th:only-of-type {\n",
       "        vertical-align: middle;\n",
       "    }\n",
       "\n",
       "    .dataframe tbody tr th {\n",
       "        vertical-align: top;\n",
       "    }\n",
       "\n",
       "    .dataframe thead th {\n",
       "        text-align: right;\n",
       "    }\n",
       "</style>\n",
       "<table border=\"1\" class=\"dataframe\">\n",
       "  <thead>\n",
       "    <tr style=\"text-align: right;\">\n",
       "      <th></th>\n",
       "      <th>X</th>\n",
       "      <th>Y</th>\n",
       "      <th>class</th>\n",
       "    </tr>\n",
       "  </thead>\n",
       "  <tbody>\n",
       "    <tr>\n",
       "      <th>0</th>\n",
       "      <td>0.031595</td>\n",
       "      <td>0.986988</td>\n",
       "      <td>0.0</td>\n",
       "    </tr>\n",
       "    <tr>\n",
       "      <th>1</th>\n",
       "      <td>2.115098</td>\n",
       "      <td>-0.046244</td>\n",
       "      <td>1.0</td>\n",
       "    </tr>\n",
       "    <tr>\n",
       "      <th>2</th>\n",
       "      <td>0.882490</td>\n",
       "      <td>-0.075756</td>\n",
       "      <td>0.0</td>\n",
       "    </tr>\n",
       "    <tr>\n",
       "      <th>3</th>\n",
       "      <td>-0.055144</td>\n",
       "      <td>-0.037332</td>\n",
       "      <td>1.0</td>\n",
       "    </tr>\n",
       "    <tr>\n",
       "      <th>4</th>\n",
       "      <td>0.829545</td>\n",
       "      <td>-0.539321</td>\n",
       "      <td>1.0</td>\n",
       "    </tr>\n",
       "    <tr>\n",
       "      <th>...</th>\n",
       "      <td>...</td>\n",
       "      <td>...</td>\n",
       "      <td>...</td>\n",
       "    </tr>\n",
       "    <tr>\n",
       "      <th>95</th>\n",
       "      <td>1.699453</td>\n",
       "      <td>0.587720</td>\n",
       "      <td>1.0</td>\n",
       "    </tr>\n",
       "    <tr>\n",
       "      <th>96</th>\n",
       "      <td>0.218623</td>\n",
       "      <td>-0.652521</td>\n",
       "      <td>1.0</td>\n",
       "    </tr>\n",
       "    <tr>\n",
       "      <th>97</th>\n",
       "      <td>0.952914</td>\n",
       "      <td>-0.419766</td>\n",
       "      <td>1.0</td>\n",
       "    </tr>\n",
       "    <tr>\n",
       "      <th>98</th>\n",
       "      <td>-1.318500</td>\n",
       "      <td>0.423112</td>\n",
       "      <td>0.0</td>\n",
       "    </tr>\n",
       "    <tr>\n",
       "      <th>99</th>\n",
       "      <td>-1.296818</td>\n",
       "      <td>0.184147</td>\n",
       "      <td>0.0</td>\n",
       "    </tr>\n",
       "  </tbody>\n",
       "</table>\n",
       "<p>100 rows × 3 columns</p>\n",
       "</div>"
      ]
     },
     "execution_count": 5,
     "metadata": {},
     "output_type": "execute_result"
    }
   ],
   "execution_count": 5
  },
  {
   "metadata": {
    "ExecuteTime": {
     "end_time": "2025-08-05T07:51:33.791782Z",
     "start_time": "2025-08-05T07:51:33.025425Z"
    }
   },
   "cell_type": "code",
   "source": "plt.scatter(df['X'],df['Y'],c=df['class'])",
   "id": "15e407daa289502b",
   "outputs": [
    {
     "data": {
      "text/plain": [
       "<matplotlib.collections.PathCollection at 0x1e36c913380>"
      ]
     },
     "execution_count": 6,
     "metadata": {},
     "output_type": "execute_result"
    },
    {
     "data": {
      "text/plain": [
       "<Figure size 640x480 with 1 Axes>"
      ],
      "image/png": "[encoded data removed]"
     },
     "metadata": {},
     "output_type": "display_data"
    }
   ],
   "execution_count": 6
  },
  {
   "metadata": {
    "ExecuteTime": {
     "end_time": "2025-08-05T07:51:42.906452Z",
     "start_time": "2025-08-05T07:51:42.888808Z"
    }
   },
   "cell_type": "code",
   "source": [
    "X = df.iloc[:,0:2].values\n",
    "y = df.iloc[:,-1].values"
   ],
   "id": "6012ada5670b4791",
   "outputs": [],
   "execution_count": 7
  },
  {
   "metadata": {
    "ExecuteTime": {
     "end_time": "2025-08-05T07:52:09.770788Z",
     "start_time": "2025-08-05T07:52:09.766165Z"
    }
   },
   "cell_type": "code",
   "source": [
    "import tensorflow\n",
    "from tensorflow import keras\n",
    "from keras import Sequential\n",
    "from keras.layers import Dense"
   ],
   "id": "e88cab4bfbdef380",
   "outputs": [],
   "execution_count": 9
  },
  {
   "metadata": {
    "ExecuteTime": {
     "end_time": "2025-08-05T07:54:36.644317Z",
     "start_time": "2025-08-05T07:54:35.953326Z"
    }
   },
   "cell_type": "code",
   "source": [
    "model = Sequential()\n",
    "model.add(Dense(10,activation='relu',input_dim=2,kernel_initializer='he_normal'))\n",
    "model.add(Dense(10,activation='relu', kernel_initializer='he_normal'))\n",
    "model.add(Dense(10,activation='relu', kernel_initializer='he_normal'))\n",
    "model.add(Dense(10,activation='relu', kernel_initializer='he_normal'))\n",
    "model.add(Dense(1, activation='sigmoid'))\n",
    "\n",
    "model.summary()"
   ],
   "id": "56f78ec434f0e0b5",
   "outputs": [
    {
     "name": "stderr",
     "output_type": "stream",
     "text": [
      "D:\\Artificial Intelligence\\Deep-Learning\\ANN-Handwrittn-Digit-Classification\\.venv\\Lib\\site-packages\\keras\\src\\layers\\core\\dense.py:92: UserWarning: Do not pass an `input_shape`/`input_dim` argument to a layer. When using Sequential models, prefer using an `Input(shape)` object as the first layer in the model instead.\n",
      "  super().__init__(activity_regularizer=activity_regularizer, **kwargs)\n"
     ]
    },
    {
     "data": {
      "text/plain": [
       "\u001B[1mModel: \"sequential\"\u001B[0m\n"
      ],
      "text/html": [
       "<pre style=\"white-space:pre;overflow-x:auto;line-height:normal;font-family:Menlo,'DejaVu Sans Mono',consolas,'Courier New',monospace\"><span style=\"font-weight: bold\">Model: \"sequential\"</span>\n",
       "</pre>\n"
      ]
     },
     "metadata": {},
     "output_type": "display_data"
    },
    {
     "data": {
      "text/plain": [
       "┏━━━━━━━━━━━━━━━━━━━━━━━━━━━━━━━━━┳━━━━━━━━━━━━━━━━━━━━━━━━┳━━━━━━━━━━━━━━━┓\n",
       "┃\u001B[1m \u001B[0m\u001B[1mLayer (type)                   \u001B[0m\u001B[1m \u001B[0m┃\u001B[1m \u001B[0m\u001B[1mOutput Shape          \u001B[0m\u001B[1m \u001B[0m┃\u001B[1m \u001B[0m\u001B[1m      Param #\u001B[0m\u001B[1m \u001B[0m┃\n",
       "┡━━━━━━━━━━━━━━━━━━━━━━━━━━━━━━━━━╇━━━━━━━━━━━━━━━━━━━━━━━━╇━━━━━━━━━━━━━━━┩\n",
       "│ dense (\u001B[38;5;33mDense\u001B[0m)                   │ (\u001B[38;5;45mNone\u001B[0m, \u001B[38;5;34m10\u001B[0m)             │            \u001B[38;5;34m30\u001B[0m │\n",
       "├─────────────────────────────────┼────────────────────────┼───────────────┤\n",
       "│ dense_1 (\u001B[38;5;33mDense\u001B[0m)                 │ (\u001B[38;5;45mNone\u001B[0m, \u001B[38;5;34m10\u001B[0m)             │           \u001B[38;5;34m110\u001B[0m │\n",
       "├─────────────────────────────────┼────────────────────────┼───────────────┤\n",
       "│ dense_2 (\u001B[38;5;33mDense\u001B[0m)                 │ (\u001B[38;5;45mNone\u001B[0m, \u001B[38;5;34m10\u001B[0m)             │           \u001B[38;5;34m110\u001B[0m │\n",
       "├─────────────────────────────────┼────────────────────────┼───────────────┤\n",
       "│ dense_3 (\u001B[38;5;33mDense\u001B[0m)                 │ (\u001B[38;5;45mNone\u001B[0m, \u001B[38;5;34m10\u001B[0m)             │           \u001B[38;5;34m110\u001B[0m │\n",
       "├─────────────────────────────────┼────────────────────────┼───────────────┤\n",
       "│ dense_4 (\u001B[38;5;33mDense\u001B[0m)                 │ (\u001B[38;5;45mNone\u001B[0m, \u001B[38;5;34m1\u001B[0m)              │            \u001B[38;5;34m11\u001B[0m │\n",
       "└─────────────────────────────────┴────────────────────────┴───────────────┘\n"
      ],
      "text/html": [
       "<pre style=\"white-space:pre;overflow-x:auto;line-height:normal;font-family:Menlo,'DejaVu Sans Mono',consolas,'Courier New',monospace\">┏━━━━━━━━━━━━━━━━━━━━━━━━━━━━━━━━━┳━━━━━━━━━━━━━━━━━━━━━━━━┳━━━━━━━━━━━━━━━┓\n",
       "┃<span style=\"font-weight: bold\"> Layer (type)                    </span>┃<span style=\"font-weight: bold\"> Output Shape           </span>┃<span style=\"font-weight: bold\">       Param # </span>┃\n",
       "┡━━━━━━━━━━━━━━━━━━━━━━━━━━━━━━━━━╇━━━━━━━━━━━━━━━━━━━━━━━━╇━━━━━━━━━━━━━━━┩\n",
       "│ dense (<span style=\"color: #0087ff; text-decoration-color: #0087ff\">Dense</span>)                   │ (<span style=\"color: #00d7ff; text-decoration-color: #00d7ff\">None</span>, <span style=\"color: #00af00; text-decoration-color: #00af00\">10</span>)             │            <span style=\"color: #00af00; text-decoration-color: #00af00\">30</span> │\n",
       "├─────────────────────────────────┼────────────────────────┼───────────────┤\n",
       "│ dense_1 (<span style=\"color: #0087ff; text-decoration-color: #0087ff\">Dense</span>)                 │ (<span style=\"color: #00d7ff; text-decoration-color: #00d7ff\">None</span>, <span style=\"color: #00af00; text-decoration-color: #00af00\">10</span>)             │           <span style=\"color: #00af00; text-decoration-color: #00af00\">110</span> │\n",
       "├─────────────────────────────────┼────────────────────────┼───────────────┤\n",
       "│ dense_2 (<span style=\"color: #0087ff; text-decoration-color: #0087ff\">Dense</span>)                 │ (<span style=\"color: #00d7ff; text-decoration-color: #00d7ff\">None</span>, <span style=\"color: #00af00; text-decoration-color: #00af00\">10</span>)             │           <span style=\"color: #00af00; text-decoration-color: #00af00\">110</span> │\n",
       "├─────────────────────────────────┼────────────────────────┼───────────────┤\n",
       "│ dense_3 (<span style=\"color: #0087ff; text-decoration-color: #0087ff\">Dense</span>)                 │ (<span style=\"color: #00d7ff; text-decoration-color: #00d7ff\">None</span>, <span style=\"color: #00af00; text-decoration-color: #00af00\">10</span>)             │           <span style=\"color: #00af00; text-decoration-color: #00af00\">110</span> │\n",
       "├─────────────────────────────────┼────────────────────────┼───────────────┤\n",
       "│ dense_4 (<span style=\"color: #0087ff; text-decoration-color: #0087ff\">Dense</span>)                 │ (<span style=\"color: #00d7ff; text-decoration-color: #00d7ff\">None</span>, <span style=\"color: #00af00; text-decoration-color: #00af00\">1</span>)              │            <span style=\"color: #00af00; text-decoration-color: #00af00\">11</span> │\n",
       "└─────────────────────────────────┴────────────────────────┴───────────────┘\n",
       "</pre>\n"
      ]
     },
     "metadata": {},
     "output_type": "display_data"
    },
    {
     "data": {
      "text/plain": [
       "\u001B[1m Total params: \u001B[0m\u001B[38;5;34m371\u001B[0m (1.45 KB)\n"
      ],
      "text/html": [
       "<pre style=\"white-space:pre;overflow-x:auto;line-height:normal;font-family:Menlo,'DejaVu Sans Mono',consolas,'Courier New',monospace\"><span style=\"font-weight: bold\"> Total params: </span><span style=\"color: #00af00; text-decoration-color: #00af00\">371</span> (1.45 KB)\n",
       "</pre>\n"
      ]
     },
     "metadata": {},
     "output_type": "display_data"
    },
    {
     "data": {
      "text/plain": [
       "\u001B[1m Trainable params: \u001B[0m\u001B[38;5;34m371\u001B[0m (1.45 KB)\n"
      ],
      "text/html": [
       "<pre style=\"white-space:pre;overflow-x:auto;line-height:normal;font-family:Menlo,'DejaVu Sans Mono',consolas,'Courier New',monospace\"><span style=\"font-weight: bold\"> Trainable params: </span><span style=\"color: #00af00; text-decoration-color: #00af00\">371</span> (1.45 KB)\n",
       "</pre>\n"
      ]
     },
     "metadata": {},
     "output_type": "display_data"
    },
    {
     "data": {
      "text/plain": [
       "\u001B[1m Non-trainable params: \u001B[0m\u001B[38;5;34m0\u001B[0m (0.00 B)\n"
      ],
      "text/html": [
       "<pre style=\"white-space:pre;overflow-x:auto;line-height:normal;font-family:Menlo,'DejaVu Sans Mono',consolas,'Courier New',monospace\"><span style=\"font-weight: bold\"> Non-trainable params: </span><span style=\"color: #00af00; text-decoration-color: #00af00\">0</span> (0.00 B)\n",
       "</pre>\n"
      ]
     },
     "metadata": {},
     "output_type": "display_data"
    }
   ],
   "execution_count": 10
  },
  {
   "metadata": {
    "ExecuteTime": {
     "end_time": "2025-08-05T07:54:54.677102Z",
     "start_time": "2025-08-05T07:54:54.603739Z"
    }
   },
   "cell_type": "code",
   "source": "model.get_weights()",
   "id": "5801b53f0c22461f",
   "outputs": [
    {
     "data": {
      "text/plain": [
       "[array([[-1.2764832 ,  0.129374  ,  0.704932  ,  0.51023126,  1.7697293 ,\n",
       "         -0.04819838,  0.9203343 ,  1.379468  ,  1.0994965 , -1.0212693 ],\n",
       "        [-0.43040675,  0.09846541,  1.4940227 ,  0.7709502 ,  1.7886118 ,\n",
       "         -0.10197341, -0.74047655,  1.5957268 , -1.1763796 , -1.1481342 ]],\n",
       "       dtype=float32),\n",
       " array([0., 0., 0., 0., 0., 0., 0., 0., 0., 0.], dtype=float32),\n",
       " array([[ 0.37000316,  0.18109329, -0.08452949,  0.05216395, -0.7651591 ,\n",
       "          0.2913957 ,  0.8597094 , -0.33604175, -0.35716546,  0.4179407 ],\n",
       "        [ 0.38278675,  0.4192489 ,  0.23470505, -0.79391617,  0.49310005,\n",
       "          0.1715349 ,  0.0838204 ,  0.37148568,  0.4937389 ,  0.06082558],\n",
       "        [-0.3874804 ,  0.25022036,  0.30344418, -0.5589285 , -0.5481259 ,\n",
       "         -0.19454817, -0.5235612 , -0.39182705,  0.31515178, -0.42402095],\n",
       "        [ 0.29137227,  0.30427557, -0.3304076 ,  0.3548597 ,  0.63280743,\n",
       "          0.83628213, -0.6416369 , -0.8006792 , -0.4196532 , -0.40246326],\n",
       "        [ 0.03069656, -0.39510456,  0.2156147 , -0.83768314,  0.72268075,\n",
       "         -0.57829916, -0.03270081,  0.9476717 , -0.20390648, -0.56645936],\n",
       "        [ 0.29586396,  0.16239798, -0.11956622, -0.91020066, -0.18841447,\n",
       "          0.17489749,  0.3612079 ,  0.7035758 , -0.20414948,  0.502878  ],\n",
       "        [-0.6428313 , -0.66114956, -0.62819487,  0.9638775 , -0.03316661,\n",
       "         -0.11060786, -0.74485785, -0.14239448, -0.30972898, -0.1840781 ],\n",
       "        [-0.4452309 , -0.46842822, -0.07047185, -0.09944782,  0.81086975,\n",
       "          0.69649625,  0.22501186, -0.05482374, -0.8703432 ,  0.19794172],\n",
       "        [ 0.20776577, -0.20319237, -0.0722949 ,  0.5829586 , -0.6253441 ,\n",
       "         -0.33777452, -0.2928777 , -0.4300826 ,  0.6281018 ,  0.85228604],\n",
       "        [-0.26758504, -0.6822643 ,  0.20676753, -0.05217986, -0.2835073 ,\n",
       "          0.16008247, -0.54163384, -0.21045242,  0.91443944, -0.00871595]],\n",
       "       dtype=float32),\n",
       " array([0., 0., 0., 0., 0., 0., 0., 0., 0., 0.], dtype=float32),\n",
       " array([[ 0.5302459 ,  0.12380241, -0.6135824 ,  0.33912432, -0.39285573,\n",
       "          0.31737152, -0.38875353,  0.32779878,  0.27457446, -0.09080503],\n",
       "        [ 0.3861659 , -0.5967664 ,  0.6530237 ,  0.5898078 ,  0.62337154,\n",
       "         -0.1391468 ,  0.01225937, -0.7779981 , -0.31069288,  0.4529828 ],\n",
       "        [-0.6362428 , -0.23697059, -0.52570635, -0.01215495, -0.4428563 ,\n",
       "         -0.3864804 , -0.7518718 ,  0.45402932, -0.31765366, -0.40173438],\n",
       "        [ 0.18760712, -0.7460007 ,  1.0020189 ,  0.0848394 ,  0.19383012,\n",
       "          0.18800189, -0.47159418, -0.49499956,  0.4897633 , -0.26639223],\n",
       "        [-0.7735557 , -0.3913883 ,  0.5948763 ,  0.6932345 , -0.19004586,\n",
       "          0.34151384,  0.13046424,  0.37026682,  0.6885032 ,  0.3900534 ],\n",
       "        [-0.7659162 , -0.2829242 ,  0.6469545 ,  0.08611757,  0.5648878 ,\n",
       "          0.14480437,  0.7973978 ,  0.45333424, -0.16742218,  0.020285  ],\n",
       "        [-0.7385174 ,  0.30131066,  0.23458226, -0.4159009 , -0.1274782 ,\n",
       "          0.62508726,  0.08900489,  0.28996465,  0.05364656, -0.4049488 ],\n",
       "        [ 0.47850075,  0.41200623, -0.02768903, -0.02900577, -0.22224687,\n",
       "         -0.26502284,  0.51677763,  0.32360944,  0.62518823,  0.2907618 ],\n",
       "        [-0.07355009,  0.16705562, -0.23971003,  0.39648396,  0.02729458,\n",
       "          0.96477735, -0.14530791,  0.7585472 ,  0.15167125, -0.69040716],\n",
       "        [ 0.05140886,  0.30885983,  0.7293864 , -0.14058268, -0.5409603 ,\n",
       "         -0.2803717 ,  0.38854215, -0.4124335 , -0.33563015, -0.28618628]],\n",
       "       dtype=float32),\n",
       " array([0., 0., 0., 0., 0., 0., 0., 0., 0., 0.], dtype=float32),\n",
       " array([[-0.64881045,  0.36243486, -0.38653952,  0.05808685,  0.19039968,\n",
       "          0.23106839,  0.05245516, -0.6186371 ,  0.4864152 , -1.0030558 ],\n",
       "        [-0.30121696, -0.30996734, -0.6243912 , -0.20201468, -0.9453264 ,\n",
       "          0.6404929 ,  0.69719416, -0.67293227, -0.12663046,  0.3685408 ],\n",
       "        [ 0.9397596 , -0.4078178 , -0.30212197,  0.66151243, -0.09928186,\n",
       "         -0.2537263 ,  0.0807647 ,  0.16367024, -0.1059045 , -0.2258359 ],\n",
       "        [ 0.03347078, -0.0653036 , -0.10740691,  0.5398058 ,  0.6795505 ,\n",
       "          0.9496612 ,  0.4399323 ,  0.92643243,  0.8139402 , -0.54370135],\n",
       "        [ 0.11230739,  0.2812031 ,  0.4775242 , -0.1652208 ,  0.5452925 ,\n",
       "          0.1346717 , -0.12823372,  0.16730267, -0.35299072,  0.76586896],\n",
       "        [ 0.10629456, -0.32314894,  0.95681304,  0.10043245, -0.5185366 ,\n",
       "          0.18888196,  0.40261355, -0.26341033,  0.93321574,  0.17183238],\n",
       "        [-0.14505433,  0.18376048,  0.26094684, -0.24251358,  0.15734233,\n",
       "         -0.40345407,  0.19788699, -0.5379494 ,  0.06961853,  0.12403188],\n",
       "        [-0.4368859 , -0.06962739,  0.15828267,  0.92605186, -0.4880395 ,\n",
       "         -0.07091985,  0.284796  , -0.76688415, -0.50539416, -0.4743161 ],\n",
       "        [ 0.42770523,  0.49103963, -0.47838527,  0.9989301 ,  0.7269233 ,\n",
       "          0.3517137 ,  0.29360312,  0.29842162,  0.11726373, -0.01965987],\n",
       "        [-0.7038498 ,  0.1536486 , -0.4750581 ,  0.2424341 ,  0.16929886,\n",
       "          0.43506607, -0.04976284, -0.64224374,  0.34161335,  0.6353438 ]],\n",
       "       dtype=float32),\n",
       " array([0., 0., 0., 0., 0., 0., 0., 0., 0., 0.], dtype=float32),\n",
       " array([[-0.2881877 ],\n",
       "        [-0.37019432],\n",
       "        [ 0.06350392],\n",
       "        [-0.13668627],\n",
       "        [-0.37564677],\n",
       "        [ 0.575383  ],\n",
       "        [-0.07703876],\n",
       "        [-0.71829927],\n",
       "        [-0.72858804],\n",
       "        [ 0.7241065 ]], dtype=float32),\n",
       " array([0.], dtype=float32)]"
      ]
     },
     "execution_count": 11,
     "metadata": {},
     "output_type": "execute_result"
    }
   ],
   "execution_count": 11
  },
  {
   "metadata": {
    "ExecuteTime": {
     "end_time": "2025-08-05T07:55:20.416390Z",
     "start_time": "2025-08-05T07:55:20.403886Z"
    }
   },
   "cell_type": "code",
   "source": "initial_weights = model.get_weights()",
   "id": "6c024bfb0c31c077",
   "outputs": [],
   "execution_count": 12
  },
  {
   "metadata": {},
   "cell_type": "code",
   "outputs": [],
   "execution_count": null,
   "source": [
    "initial_weights[0] = np.random.randn(2,10)*np.sqrt(1/2)\n",
    "initial_weights[1] = np.zeros(model.get_weights()[1].shape)\n",
    "initial_weights[2] = np.random.randn(10,10)*np.sqrt(1/10)\n",
    "initial_weights[3] = np.zeros(model.get_weights()[3].shape)\n",
    "initial_weights[4] = np.random.randn(10,10)*np.sqrt(1/10)\n",
    "initial_weights[5] = np.zeros(model.get_weights()[5].shape)\n",
    "initial_weights[6] = np.random.randn(10,10)*np.sqrt(1/10)\n",
    "initial_weights[7] = np.zeros(model.get_weights()[7].shape)\n",
    "initial_weights[8] = np.random.randn(10,1)*np.sqrt(1/10)\n",
    "initial_weights[9] = np.zeros(model.get_weights()[9].shape)"
   ],
   "id": "7dd73c68e2e29a9a"
  },
  {
   "metadata": {
    "ExecuteTime": {
     "end_time": "2025-08-05T07:59:35.765188Z",
     "start_time": "2025-08-05T07:59:35.647646Z"
    }
   },
   "cell_type": "code",
   "source": "model.set_weights(initial_weights)",
   "id": "889b595a16505f40",
   "outputs": [],
   "execution_count": 13
  },
  {
   "metadata": {
    "ExecuteTime": {
     "end_time": "2025-08-05T07:59:44.410215Z",
     "start_time": "2025-08-05T07:59:44.386292Z"
    }
   },
   "cell_type": "code",
   "source": "model.get_weights()",
   "id": "ca05db0a795cb65",
   "outputs": [
    {
     "data": {
      "text/plain": [
       "[array([[-1.2764832 ,  0.129374  ,  0.704932  ,  0.51023126,  1.7697293 ,\n",
       "         -0.04819838,  0.9203343 ,  1.379468  ,  1.0994965 , -1.0212693 ],\n",
       "        [-0.43040675,  0.09846541,  1.4940227 ,  0.7709502 ,  1.7886118 ,\n",
       "         -0.10197341, -0.74047655,  1.5957268 , -1.1763796 , -1.1481342 ]],\n",
       "       dtype=float32),\n",
       " array([0., 0., 0., 0., 0., 0., 0., 0., 0., 0.], dtype=float32),\n",
       " array([[ 0.37000316,  0.18109329, -0.08452949,  0.05216395, -0.7651591 ,\n",
       "          0.2913957 ,  0.8597094 , -0.33604175, -0.35716546,  0.4179407 ],\n",
       "        [ 0.38278675,  0.4192489 ,  0.23470505, -0.79391617,  0.49310005,\n",
       "          0.1715349 ,  0.0838204 ,  0.37148568,  0.4937389 ,  0.06082558],\n",
       "        [-0.3874804 ,  0.25022036,  0.30344418, -0.5589285 , -0.5481259 ,\n",
       "         -0.19454817, -0.5235612 , -0.39182705,  0.31515178, -0.42402095],\n",
       "        [ 0.29137227,  0.30427557, -0.3304076 ,  0.3548597 ,  0.63280743,\n",
       "          0.83628213, -0.6416369 , -0.8006792 , -0.4196532 , -0.40246326],\n",
       "        [ 0.03069656, -0.39510456,  0.2156147 , -0.83768314,  0.72268075,\n",
       "         -0.57829916, -0.03270081,  0.9476717 , -0.20390648, -0.56645936],\n",
       "        [ 0.29586396,  0.16239798, -0.11956622, -0.91020066, -0.18841447,\n",
       "          0.17489749,  0.3612079 ,  0.7035758 , -0.20414948,  0.502878  ],\n",
       "        [-0.6428313 , -0.66114956, -0.62819487,  0.9638775 , -0.03316661,\n",
       "         -0.11060786, -0.74485785, -0.14239448, -0.30972898, -0.1840781 ],\n",
       "        [-0.4452309 , -0.46842822, -0.07047185, -0.09944782,  0.81086975,\n",
       "          0.69649625,  0.22501186, -0.05482374, -0.8703432 ,  0.19794172],\n",
       "        [ 0.20776577, -0.20319237, -0.0722949 ,  0.5829586 , -0.6253441 ,\n",
       "         -0.33777452, -0.2928777 , -0.4300826 ,  0.6281018 ,  0.85228604],\n",
       "        [-0.26758504, -0.6822643 ,  0.20676753, -0.05217986, -0.2835073 ,\n",
       "          0.16008247, -0.54163384, -0.21045242,  0.91443944, -0.00871595]],\n",
       "       dtype=float32),\n",
       " array([0., 0., 0., 0., 0., 0., 0., 0., 0., 0.], dtype=float32),\n",
       " array([[ 0.5302459 ,  0.12380241, -0.6135824 ,  0.33912432, -0.39285573,\n",
       "          0.31737152, -0.38875353,  0.32779878,  0.27457446, -0.09080503],\n",
       "        [ 0.3861659 , -0.5967664 ,  0.6530237 ,  0.5898078 ,  0.62337154,\n",
       "         -0.1391468 ,  0.01225937, -0.7779981 , -0.31069288,  0.4529828 ],\n",
       "        [-0.6362428 , -0.23697059, -0.52570635, -0.01215495, -0.4428563 ,\n",
       "         -0.3864804 , -0.7518718 ,  0.45402932, -0.31765366, -0.40173438],\n",
       "        [ 0.18760712, -0.7460007 ,  1.0020189 ,  0.0848394 ,  0.19383012,\n",
       "          0.18800189, -0.47159418, -0.49499956,  0.4897633 , -0.26639223],\n",
       "        [-0.7735557 , -0.3913883 ,  0.5948763 ,  0.6932345 , -0.19004586,\n",
       "          0.34151384,  0.13046424,  0.37026682,  0.6885032 ,  0.3900534 ],\n",
       "        [-0.7659162 , -0.2829242 ,  0.6469545 ,  0.08611757,  0.5648878 ,\n",
       "          0.14480437,  0.7973978 ,  0.45333424, -0.16742218,  0.020285  ],\n",
       "        [-0.7385174 ,  0.30131066,  0.23458226, -0.4159009 , -0.1274782 ,\n",
       "          0.62508726,  0.08900489,  0.28996465,  0.05364656, -0.4049488 ],\n",
       "        [ 0.47850075,  0.41200623, -0.02768903, -0.02900577, -0.22224687,\n",
       "         -0.26502284,  0.51677763,  0.32360944,  0.62518823,  0.2907618 ],\n",
       "        [-0.07355009,  0.16705562, -0.23971003,  0.39648396,  0.02729458,\n",
       "          0.96477735, -0.14530791,  0.7585472 ,  0.15167125, -0.69040716],\n",
       "        [ 0.05140886,  0.30885983,  0.7293864 , -0.14058268, -0.5409603 ,\n",
       "         -0.2803717 ,  0.38854215, -0.4124335 , -0.33563015, -0.28618628]],\n",
       "       dtype=float32),\n",
       " array([0., 0., 0., 0., 0., 0., 0., 0., 0., 0.], dtype=float32),\n",
       " array([[-0.64881045,  0.36243486, -0.38653952,  0.05808685,  0.19039968,\n",
       "          0.23106839,  0.05245516, -0.6186371 ,  0.4864152 , -1.0030558 ],\n",
       "        [-0.30121696, -0.30996734, -0.6243912 , -0.20201468, -0.9453264 ,\n",
       "          0.6404929 ,  0.69719416, -0.67293227, -0.12663046,  0.3685408 ],\n",
       "        [ 0.9397596 , -0.4078178 , -0.30212197,  0.66151243, -0.09928186,\n",
       "         -0.2537263 ,  0.0807647 ,  0.16367024, -0.1059045 , -0.2258359 ],\n",
       "        [ 0.03347078, -0.0653036 , -0.10740691,  0.5398058 ,  0.6795505 ,\n",
       "          0.9496612 ,  0.4399323 ,  0.92643243,  0.8139402 , -0.54370135],\n",
       "        [ 0.11230739,  0.2812031 ,  0.4775242 , -0.1652208 ,  0.5452925 ,\n",
       "          0.1346717 , -0.12823372,  0.16730267, -0.35299072,  0.76586896],\n",
       "        [ 0.10629456, -0.32314894,  0.95681304,  0.10043245, -0.5185366 ,\n",
       "          0.18888196,  0.40261355, -0.26341033,  0.93321574,  0.17183238],\n",
       "        [-0.14505433,  0.18376048,  0.26094684, -0.24251358,  0.15734233,\n",
       "         -0.40345407,  0.19788699, -0.5379494 ,  0.06961853,  0.12403188],\n",
       "        [-0.4368859 , -0.06962739,  0.15828267,  0.92605186, -0.4880395 ,\n",
       "         -0.07091985,  0.284796  , -0.76688415, -0.50539416, -0.4743161 ],\n",
       "        [ 0.42770523,  0.49103963, -0.47838527,  0.9989301 ,  0.7269233 ,\n",
       "          0.3517137 ,  0.29360312,  0.29842162,  0.11726373, -0.01965987],\n",
       "        [-0.7038498 ,  0.1536486 , -0.4750581 ,  0.2424341 ,  0.16929886,\n",
       "          0.43506607, -0.04976284, -0.64224374,  0.34161335,  0.6353438 ]],\n",
       "       dtype=float32),\n",
       " array([0., 0., 0., 0., 0., 0., 0., 0., 0., 0.], dtype=float32),\n",
       " array([[-0.2881877 ],\n",
       "        [-0.37019432],\n",
       "        [ 0.06350392],\n",
       "        [-0.13668627],\n",
       "        [-0.37564677],\n",
       "        [ 0.575383  ],\n",
       "        [-0.07703876],\n",
       "        [-0.71829927],\n",
       "        [-0.72858804],\n",
       "        [ 0.7241065 ]], dtype=float32),\n",
       " array([0.], dtype=float32)]"
      ]
     },
     "execution_count": 14,
     "metadata": {},
     "output_type": "execute_result"
    }
   ],
   "execution_count": 14
  },
  {
   "metadata": {
    "ExecuteTime": {
     "end_time": "2025-08-05T08:00:25.854756Z",
     "start_time": "2025-08-05T08:00:25.748377Z"
    }
   },
   "cell_type": "code",
   "source": "model.compile(loss='binary_crossentropy', optimizer='adam', metrics=['accuracy'])",
   "id": "ba5a6f1fa2dabe41",
   "outputs": [],
   "execution_count": 15
  },
  {
   "metadata": {
    "ExecuteTime": {
     "end_time": "2025-08-05T08:01:11.592639Z",
     "start_time": "2025-08-05T08:00:58.629919Z"
    }
   },
   "cell_type": "code",
   "source": "history = model.fit(X,y,epochs=100,validation_split=0.2)",
   "id": "623a540e4ccbf578",
   "outputs": [
    {
     "name": "stdout",
     "output_type": "stream",
     "text": [
      "Epoch 1/100\n",
      "\u001B[1m3/3\u001B[0m \u001B[32m━━━━━━━━━━━━━━━━━━━━\u001B[0m\u001B[37m\u001B[0m \u001B[1m3s\u001B[0m 790ms/step - accuracy: 0.5000 - loss: 1.2237 - val_accuracy: 0.5000 - val_loss: 1.1231\n",
      "Epoch 2/100\n",
      "\u001B[1m3/3\u001B[0m \u001B[32m━━━━━━━━━━━━━━━━━━━━\u001B[0m\u001B[37m\u001B[0m \u001B[1m0s\u001B[0m 32ms/step - accuracy: 0.5000 - loss: 1.1513 - val_accuracy: 0.5000 - val_loss: 1.0602\n",
      "Epoch 3/100\n",
      "\u001B[1m3/3\u001B[0m \u001B[32m━━━━━━━━━━━━━━━━━━━━\u001B[0m\u001B[37m\u001B[0m \u001B[1m0s\u001B[0m 50ms/step - accuracy: 0.5000 - loss: 1.0861 - val_accuracy: 0.5000 - val_loss: 1.0032\n",
      "Epoch 4/100\n",
      "\u001B[1m3/3\u001B[0m \u001B[32m━━━━━━━━━━━━━━━━━━━━\u001B[0m\u001B[37m\u001B[0m \u001B[1m0s\u001B[0m 31ms/step - accuracy: 0.5000 - loss: 1.0208 - val_accuracy: 0.5000 - val_loss: 0.9529\n",
      "Epoch 5/100\n",
      "\u001B[1m3/3\u001B[0m \u001B[32m━━━━━━━━━━━━━━━━━━━━\u001B[0m\u001B[37m\u001B[0m \u001B[1m0s\u001B[0m 29ms/step - accuracy: 0.5125 - loss: 0.9771 - val_accuracy: 0.5000 - val_loss: 0.9090\n",
      "Epoch 6/100\n",
      "\u001B[1m3/3\u001B[0m \u001B[32m━━━━━━━━━━━━━━━━━━━━\u001B[0m\u001B[37m\u001B[0m \u001B[1m0s\u001B[0m 27ms/step - accuracy: 0.5000 - loss: 0.9372 - val_accuracy: 0.5000 - val_loss: 0.8732\n",
      "Epoch 7/100\n",
      "\u001B[1m3/3\u001B[0m \u001B[32m━━━━━━━━━━━━━━━━━━━━\u001B[0m\u001B[37m\u001B[0m \u001B[1m0s\u001B[0m 31ms/step - accuracy: 0.5000 - loss: 0.9032 - val_accuracy: 0.5500 - val_loss: 0.8443\n",
      "Epoch 8/100\n",
      "\u001B[1m3/3\u001B[0m \u001B[32m━━━━━━━━━━━━━━━━━━━━\u001B[0m\u001B[37m\u001B[0m \u001B[1m0s\u001B[0m 42ms/step - accuracy: 0.5000 - loss: 0.8679 - val_accuracy: 0.5500 - val_loss: 0.8215\n",
      "Epoch 9/100\n",
      "\u001B[1m3/3\u001B[0m \u001B[32m━━━━━━━━━━━━━━━━━━━━\u001B[0m\u001B[37m\u001B[0m \u001B[1m0s\u001B[0m 28ms/step - accuracy: 0.5000 - loss: 0.8464 - val_accuracy: 0.6000 - val_loss: 0.8010\n",
      "Epoch 10/100\n",
      "\u001B[1m3/3\u001B[0m \u001B[32m━━━━━━━━━━━━━━━━━━━━\u001B[0m\u001B[37m\u001B[0m \u001B[1m0s\u001B[0m 28ms/step - accuracy: 0.5000 - loss: 0.8243 - val_accuracy: 0.6000 - val_loss: 0.7830\n",
      "Epoch 11/100\n",
      "\u001B[1m3/3\u001B[0m \u001B[32m━━━━━━━━━━━━━━━━━━━━\u001B[0m\u001B[37m\u001B[0m \u001B[1m0s\u001B[0m 30ms/step - accuracy: 0.5000 - loss: 0.8056 - val_accuracy: 0.6000 - val_loss: 0.7677\n",
      "Epoch 12/100\n",
      "\u001B[1m3/3\u001B[0m \u001B[32m━━━━━━━━━━━━━━━━━━━━\u001B[0m\u001B[37m\u001B[0m \u001B[1m0s\u001B[0m 29ms/step - accuracy: 0.5000 - loss: 0.7892 - val_accuracy: 0.6000 - val_loss: 0.7559\n",
      "Epoch 13/100\n",
      "\u001B[1m3/3\u001B[0m \u001B[32m━━━━━━━━━━━━━━━━━━━━\u001B[0m\u001B[37m\u001B[0m \u001B[1m0s\u001B[0m 30ms/step - accuracy: 0.5000 - loss: 0.7768 - val_accuracy: 0.6000 - val_loss: 0.7454\n",
      "Epoch 14/100\n",
      "\u001B[1m3/3\u001B[0m \u001B[32m━━━━━━━━━━━━━━━━━━━━\u001B[0m\u001B[37m\u001B[0m \u001B[1m0s\u001B[0m 32ms/step - accuracy: 0.5000 - loss: 0.7647 - val_accuracy: 0.6000 - val_loss: 0.7361\n",
      "Epoch 15/100\n",
      "\u001B[1m3/3\u001B[0m \u001B[32m━━━━━━━━━━━━━━━━━━━━\u001B[0m\u001B[37m\u001B[0m \u001B[1m0s\u001B[0m 31ms/step - accuracy: 0.5000 - loss: 0.7548 - val_accuracy: 0.6000 - val_loss: 0.7279\n",
      "Epoch 16/100\n",
      "\u001B[1m3/3\u001B[0m \u001B[32m━━━━━━━━━━━━━━━━━━━━\u001B[0m\u001B[37m\u001B[0m \u001B[1m0s\u001B[0m 35ms/step - accuracy: 0.5000 - loss: 0.7443 - val_accuracy: 0.6000 - val_loss: 0.7207\n",
      "Epoch 17/100\n",
      "\u001B[1m3/3\u001B[0m \u001B[32m━━━━━━━━━━━━━━━━━━━━\u001B[0m\u001B[37m\u001B[0m \u001B[1m0s\u001B[0m 31ms/step - accuracy: 0.5125 - loss: 0.7362 - val_accuracy: 0.6000 - val_loss: 0.7139\n",
      "Epoch 18/100\n",
      "\u001B[1m3/3\u001B[0m \u001B[32m━━━━━━━━━━━━━━━━━━━━\u001B[0m\u001B[37m\u001B[0m \u001B[1m0s\u001B[0m 29ms/step - accuracy: 0.5125 - loss: 0.7288 - val_accuracy: 0.6000 - val_loss: 0.7077\n",
      "Epoch 19/100\n",
      "\u001B[1m3/3\u001B[0m \u001B[32m━━━━━━━━━━━━━━━━━━━━\u001B[0m\u001B[37m\u001B[0m \u001B[1m0s\u001B[0m 31ms/step - accuracy: 0.5125 - loss: 0.7218 - val_accuracy: 0.6000 - val_loss: 0.7011\n",
      "Epoch 20/100\n",
      "\u001B[1m3/3\u001B[0m \u001B[32m━━━━━━━━━━━━━━━━━━━━\u001B[0m\u001B[37m\u001B[0m \u001B[1m0s\u001B[0m 34ms/step - accuracy: 0.5125 - loss: 0.7155 - val_accuracy: 0.6000 - val_loss: 0.6944\n",
      "Epoch 21/100\n",
      "\u001B[1m3/3\u001B[0m \u001B[32m━━━━━━━━━━━━━━━━━━━━\u001B[0m\u001B[37m\u001B[0m \u001B[1m0s\u001B[0m 34ms/step - accuracy: 0.5375 - loss: 0.7088 - val_accuracy: 0.6500 - val_loss: 0.6880\n",
      "Epoch 22/100\n",
      "\u001B[1m3/3\u001B[0m \u001B[32m━━━━━━━━━━━━━━━━━━━━\u001B[0m\u001B[37m\u001B[0m \u001B[1m0s\u001B[0m 32ms/step - accuracy: 0.5375 - loss: 0.7026 - val_accuracy: 0.6500 - val_loss: 0.6817\n",
      "Epoch 23/100\n",
      "\u001B[1m3/3\u001B[0m \u001B[32m━━━━━━━━━━━━━━━━━━━━\u001B[0m\u001B[37m\u001B[0m \u001B[1m0s\u001B[0m 30ms/step - accuracy: 0.5375 - loss: 0.6969 - val_accuracy: 0.6500 - val_loss: 0.6754\n",
      "Epoch 24/100\n",
      "\u001B[1m3/3\u001B[0m \u001B[32m━━━━━━━━━━━━━━━━━━━━\u001B[0m\u001B[37m\u001B[0m \u001B[1m0s\u001B[0m 27ms/step - accuracy: 0.5375 - loss: 0.6909 - val_accuracy: 0.6500 - val_loss: 0.6691\n",
      "Epoch 25/100\n",
      "\u001B[1m3/3\u001B[0m \u001B[32m━━━━━━━━━━━━━━━━━━━━\u001B[0m\u001B[37m\u001B[0m \u001B[1m0s\u001B[0m 34ms/step - accuracy: 0.5375 - loss: 0.6856 - val_accuracy: 0.6500 - val_loss: 0.6630\n",
      "Epoch 26/100\n",
      "\u001B[1m3/3\u001B[0m \u001B[32m━━━━━━━━━━━━━━━━━━━━\u001B[0m\u001B[37m\u001B[0m \u001B[1m0s\u001B[0m 27ms/step - accuracy: 0.5375 - loss: 0.6801 - val_accuracy: 0.6500 - val_loss: 0.6570\n",
      "Epoch 27/100\n",
      "\u001B[1m3/3\u001B[0m \u001B[32m━━━━━━━━━━━━━━━━━━━━\u001B[0m\u001B[37m\u001B[0m \u001B[1m0s\u001B[0m 29ms/step - accuracy: 0.5375 - loss: 0.6749 - val_accuracy: 0.6500 - val_loss: 0.6510\n",
      "Epoch 28/100\n",
      "\u001B[1m3/3\u001B[0m \u001B[32m━━━━━━━━━━━━━━━━━━━━\u001B[0m\u001B[37m\u001B[0m \u001B[1m0s\u001B[0m 29ms/step - accuracy: 0.5500 - loss: 0.6700 - val_accuracy: 0.6500 - val_loss: 0.6457\n",
      "Epoch 29/100\n",
      "\u001B[1m3/3\u001B[0m \u001B[32m━━━━━━━━━━━━━━━━━━━━\u001B[0m\u001B[37m\u001B[0m \u001B[1m0s\u001B[0m 32ms/step - accuracy: 0.5500 - loss: 0.6655 - val_accuracy: 0.6500 - val_loss: 0.6401\n",
      "Epoch 30/100\n",
      "\u001B[1m3/3\u001B[0m \u001B[32m━━━━━━━━━━━━━━━━━━━━\u001B[0m\u001B[37m\u001B[0m \u001B[1m0s\u001B[0m 29ms/step - accuracy: 0.5500 - loss: 0.6609 - val_accuracy: 0.6500 - val_loss: 0.6340\n",
      "Epoch 31/100\n",
      "\u001B[1m3/3\u001B[0m \u001B[32m━━━━━━━━━━━━━━━━━━━━\u001B[0m\u001B[37m\u001B[0m \u001B[1m0s\u001B[0m 25ms/step - accuracy: 0.5500 - loss: 0.6568 - val_accuracy: 0.6500 - val_loss: 0.6278\n",
      "Epoch 32/100\n",
      "\u001B[1m3/3\u001B[0m \u001B[32m━━━━━━━━━━━━━━━━━━━━\u001B[0m\u001B[37m\u001B[0m \u001B[1m0s\u001B[0m 26ms/step - accuracy: 0.5500 - loss: 0.6521 - val_accuracy: 0.6500 - val_loss: 0.6222\n",
      "Epoch 33/100\n",
      "\u001B[1m3/3\u001B[0m \u001B[32m━━━━━━━━━━━━━━━━━━━━\u001B[0m\u001B[37m\u001B[0m \u001B[1m0s\u001B[0m 27ms/step - accuracy: 0.5375 - loss: 0.6482 - val_accuracy: 0.6500 - val_loss: 0.6165\n",
      "Epoch 34/100\n",
      "\u001B[1m3/3\u001B[0m \u001B[32m━━━━━━━━━━━━━━━━━━━━\u001B[0m\u001B[37m\u001B[0m \u001B[1m0s\u001B[0m 27ms/step - accuracy: 0.5250 - loss: 0.6437 - val_accuracy: 0.6500 - val_loss: 0.6111\n",
      "Epoch 35/100\n",
      "\u001B[1m3/3\u001B[0m \u001B[32m━━━━━━━━━━━━━━━━━━━━\u001B[0m\u001B[37m\u001B[0m \u001B[1m0s\u001B[0m 30ms/step - accuracy: 0.5250 - loss: 0.6397 - val_accuracy: 0.6500 - val_loss: 0.6059\n",
      "Epoch 36/100\n",
      "\u001B[1m3/3\u001B[0m \u001B[32m━━━━━━━━━━━━━━━━━━━━\u001B[0m\u001B[37m\u001B[0m \u001B[1m0s\u001B[0m 28ms/step - accuracy: 0.5375 - loss: 0.6355 - val_accuracy: 0.6500 - val_loss: 0.6007\n",
      "Epoch 37/100\n",
      "\u001B[1m3/3\u001B[0m \u001B[32m━━━━━━━━━━━━━━━━━━━━\u001B[0m\u001B[37m\u001B[0m \u001B[1m0s\u001B[0m 30ms/step - accuracy: 0.5375 - loss: 0.6318 - val_accuracy: 0.6500 - val_loss: 0.5955\n",
      "Epoch 38/100\n",
      "\u001B[1m3/3\u001B[0m \u001B[32m━━━━━━━━━━━━━━━━━━━━\u001B[0m\u001B[37m\u001B[0m \u001B[1m0s\u001B[0m 29ms/step - accuracy: 0.5375 - loss: 0.6281 - val_accuracy: 0.6500 - val_loss: 0.5902\n",
      "Epoch 39/100\n",
      "\u001B[1m3/3\u001B[0m \u001B[32m━━━━━━━━━━━━━━━━━━━━\u001B[0m\u001B[37m\u001B[0m \u001B[1m0s\u001B[0m 29ms/step - accuracy: 0.5375 - loss: 0.6243 - val_accuracy: 0.7000 - val_loss: 0.5853\n",
      "Epoch 40/100\n",
      "\u001B[1m3/3\u001B[0m \u001B[32m━━━━━━━━━━━━━━━━━━━━\u001B[0m\u001B[37m\u001B[0m \u001B[1m0s\u001B[0m 30ms/step - accuracy: 0.5375 - loss: 0.6206 - val_accuracy: 0.7000 - val_loss: 0.5803\n",
      "Epoch 41/100\n",
      "\u001B[1m3/3\u001B[0m \u001B[32m━━━━━━━━━━━━━━━━━━━━\u001B[0m\u001B[37m\u001B[0m \u001B[1m0s\u001B[0m 30ms/step - accuracy: 0.5375 - loss: 0.6170 - val_accuracy: 0.7000 - val_loss: 0.5750\n",
      "Epoch 42/100\n",
      "\u001B[1m3/3\u001B[0m \u001B[32m━━━━━━━━━━━━━━━━━━━━\u001B[0m\u001B[37m\u001B[0m \u001B[1m0s\u001B[0m 29ms/step - accuracy: 0.5375 - loss: 0.6131 - val_accuracy: 0.7500 - val_loss: 0.5696\n",
      "Epoch 43/100\n",
      "\u001B[1m3/3\u001B[0m \u001B[32m━━━━━━━━━━━━━━━━━━━━\u001B[0m\u001B[37m\u001B[0m \u001B[1m0s\u001B[0m 25ms/step - accuracy: 0.5500 - loss: 0.6094 - val_accuracy: 0.8000 - val_loss: 0.5640\n",
      "Epoch 44/100\n",
      "\u001B[1m3/3\u001B[0m \u001B[32m━━━━━━━━━━━━━━━━━━━━\u001B[0m\u001B[37m\u001B[0m \u001B[1m0s\u001B[0m 32ms/step - accuracy: 0.5625 - loss: 0.6060 - val_accuracy: 0.8000 - val_loss: 0.5581\n",
      "Epoch 45/100\n",
      "\u001B[1m3/3\u001B[0m \u001B[32m━━━━━━━━━━━━━━━━━━━━\u001B[0m\u001B[37m\u001B[0m \u001B[1m0s\u001B[0m 33ms/step - accuracy: 0.5750 - loss: 0.6018 - val_accuracy: 0.8000 - val_loss: 0.5520\n",
      "Epoch 46/100\n",
      "\u001B[1m3/3\u001B[0m \u001B[32m━━━━━━━━━━━━━━━━━━━━\u001B[0m\u001B[37m\u001B[0m \u001B[1m0s\u001B[0m 29ms/step - accuracy: 0.5750 - loss: 0.5980 - val_accuracy: 0.8000 - val_loss: 0.5459\n",
      "Epoch 47/100\n",
      "\u001B[1m3/3\u001B[0m \u001B[32m━━━━━━━━━━━━━━━━━━━━\u001B[0m\u001B[37m\u001B[0m \u001B[1m0s\u001B[0m 35ms/step - accuracy: 0.5750 - loss: 0.5944 - val_accuracy: 0.8000 - val_loss: 0.5397\n",
      "Epoch 48/100\n",
      "\u001B[1m3/3\u001B[0m \u001B[32m━━━━━━━━━━━━━━━━━━━━\u001B[0m\u001B[37m\u001B[0m \u001B[1m0s\u001B[0m 36ms/step - accuracy: 0.5875 - loss: 0.5900 - val_accuracy: 0.7500 - val_loss: 0.5338\n",
      "Epoch 49/100\n",
      "\u001B[1m3/3\u001B[0m \u001B[32m━━━━━━━━━━━━━━━━━━━━\u001B[0m\u001B[37m\u001B[0m \u001B[1m0s\u001B[0m 36ms/step - accuracy: 0.6000 - loss: 0.5861 - val_accuracy: 0.7500 - val_loss: 0.5273\n",
      "Epoch 50/100\n",
      "\u001B[1m3/3\u001B[0m \u001B[32m━━━━━━━━━━━━━━━━━━━━\u001B[0m\u001B[37m\u001B[0m \u001B[1m0s\u001B[0m 36ms/step - accuracy: 0.6125 - loss: 0.5820 - val_accuracy: 0.8000 - val_loss: 0.5200\n",
      "Epoch 51/100\n",
      "\u001B[1m3/3\u001B[0m \u001B[32m━━━━━━━━━━━━━━━━━━━━\u001B[0m\u001B[37m\u001B[0m \u001B[1m0s\u001B[0m 32ms/step - accuracy: 0.6250 - loss: 0.5772 - val_accuracy: 0.8000 - val_loss: 0.5126\n",
      "Epoch 52/100\n",
      "\u001B[1m3/3\u001B[0m \u001B[32m━━━━━━━━━━━━━━━━━━━━\u001B[0m\u001B[37m\u001B[0m \u001B[1m0s\u001B[0m 29ms/step - accuracy: 0.6375 - loss: 0.5723 - val_accuracy: 0.8000 - val_loss: 0.5050\n",
      "Epoch 53/100\n",
      "\u001B[1m3/3\u001B[0m \u001B[32m━━━━━━━━━━━━━━━━━━━━\u001B[0m\u001B[37m\u001B[0m \u001B[1m0s\u001B[0m 27ms/step - accuracy: 0.6375 - loss: 0.5680 - val_accuracy: 0.8000 - val_loss: 0.4970\n",
      "Epoch 54/100\n",
      "\u001B[1m3/3\u001B[0m \u001B[32m━━━━━━━━━━━━━━━━━━━━\u001B[0m\u001B[37m\u001B[0m \u001B[1m0s\u001B[0m 39ms/step - accuracy: 0.6625 - loss: 0.5633 - val_accuracy: 0.8000 - val_loss: 0.4890\n",
      "Epoch 55/100\n",
      "\u001B[1m3/3\u001B[0m \u001B[32m━━━━━━━━━━━━━━━━━━━━\u001B[0m\u001B[37m\u001B[0m \u001B[1m0s\u001B[0m 51ms/step - accuracy: 0.6625 - loss: 0.5583 - val_accuracy: 0.8000 - val_loss: 0.4804\n",
      "Epoch 56/100\n",
      "\u001B[1m3/3\u001B[0m \u001B[32m━━━━━━━━━━━━━━━━━━━━\u001B[0m\u001B[37m\u001B[0m \u001B[1m0s\u001B[0m 47ms/step - accuracy: 0.6750 - loss: 0.5523 - val_accuracy: 0.8000 - val_loss: 0.4714\n",
      "Epoch 57/100\n",
      "\u001B[1m3/3\u001B[0m \u001B[32m━━━━━━━━━━━━━━━━━━━━\u001B[0m\u001B[37m\u001B[0m \u001B[1m0s\u001B[0m 42ms/step - accuracy: 0.7000 - loss: 0.5447 - val_accuracy: 0.8000 - val_loss: 0.4623\n",
      "Epoch 58/100\n",
      "\u001B[1m3/3\u001B[0m \u001B[32m━━━━━━━━━━━━━━━━━━━━\u001B[0m\u001B[37m\u001B[0m \u001B[1m0s\u001B[0m 40ms/step - accuracy: 0.7375 - loss: 0.5357 - val_accuracy: 0.8000 - val_loss: 0.4526\n",
      "Epoch 59/100\n",
      "\u001B[1m3/3\u001B[0m \u001B[32m━━━━━━━━━━━━━━━━━━━━\u001B[0m\u001B[37m\u001B[0m \u001B[1m0s\u001B[0m 27ms/step - accuracy: 0.7625 - loss: 0.5257 - val_accuracy: 0.8500 - val_loss: 0.4416\n",
      "Epoch 60/100\n",
      "\u001B[1m3/3\u001B[0m \u001B[32m━━━━━━━━━━━━━━━━━━━━\u001B[0m\u001B[37m\u001B[0m \u001B[1m0s\u001B[0m 29ms/step - accuracy: 0.7500 - loss: 0.5164 - val_accuracy: 0.9000 - val_loss: 0.4297\n",
      "Epoch 61/100\n",
      "\u001B[1m3/3\u001B[0m \u001B[32m━━━━━━━━━━━━━━━━━━━━\u001B[0m\u001B[37m\u001B[0m \u001B[1m0s\u001B[0m 28ms/step - accuracy: 0.7500 - loss: 0.5056 - val_accuracy: 0.9000 - val_loss: 0.4180\n",
      "Epoch 62/100\n",
      "\u001B[1m3/3\u001B[0m \u001B[32m━━━━━━━━━━━━━━━━━━━━\u001B[0m\u001B[37m\u001B[0m \u001B[1m0s\u001B[0m 30ms/step - accuracy: 0.7625 - loss: 0.4942 - val_accuracy: 0.9000 - val_loss: 0.4059\n",
      "Epoch 63/100\n",
      "\u001B[1m3/3\u001B[0m \u001B[32m━━━━━━━━━━━━━━━━━━━━\u001B[0m\u001B[37m\u001B[0m \u001B[1m0s\u001B[0m 48ms/step - accuracy: 0.7750 - loss: 0.4822 - val_accuracy: 0.9500 - val_loss: 0.3920\n",
      "Epoch 64/100\n",
      "\u001B[1m3/3\u001B[0m \u001B[32m━━━━━━━━━━━━━━━━━━━━\u001B[0m\u001B[37m\u001B[0m \u001B[1m0s\u001B[0m 37ms/step - accuracy: 0.8000 - loss: 0.4689 - val_accuracy: 0.9500 - val_loss: 0.3776\n",
      "Epoch 65/100\n",
      "\u001B[1m3/3\u001B[0m \u001B[32m━━━━━━━━━━━━━━━━━━━━\u001B[0m\u001B[37m\u001B[0m \u001B[1m0s\u001B[0m 29ms/step - accuracy: 0.8250 - loss: 0.4579 - val_accuracy: 0.9000 - val_loss: 0.3641\n",
      "Epoch 66/100\n",
      "\u001B[1m3/3\u001B[0m \u001B[32m━━━━━━━━━━━━━━━━━━━━\u001B[0m\u001B[37m\u001B[0m \u001B[1m0s\u001B[0m 35ms/step - accuracy: 0.8375 - loss: 0.4474 - val_accuracy: 0.9000 - val_loss: 0.3525\n",
      "Epoch 67/100\n",
      "\u001B[1m3/3\u001B[0m \u001B[32m━━━━━━━━━━━━━━━━━━━━\u001B[0m\u001B[37m\u001B[0m \u001B[1m0s\u001B[0m 32ms/step - accuracy: 0.8375 - loss: 0.4391 - val_accuracy: 0.9000 - val_loss: 0.3409\n",
      "Epoch 68/100\n",
      "\u001B[1m3/3\u001B[0m \u001B[32m━━━━━━━━━━━━━━━━━━━━\u001B[0m\u001B[37m\u001B[0m \u001B[1m0s\u001B[0m 35ms/step - accuracy: 0.8500 - loss: 0.4300 - val_accuracy: 0.9500 - val_loss: 0.3303\n",
      "Epoch 69/100\n",
      "\u001B[1m3/3\u001B[0m \u001B[32m━━━━━━━━━━━━━━━━━━━━\u001B[0m\u001B[37m\u001B[0m \u001B[1m0s\u001B[0m 34ms/step - accuracy: 0.8625 - loss: 0.4218 - val_accuracy: 0.9500 - val_loss: 0.3195\n",
      "Epoch 70/100\n",
      "\u001B[1m3/3\u001B[0m \u001B[32m━━━━━━━━━━━━━━━━━━━━\u001B[0m\u001B[37m\u001B[0m \u001B[1m0s\u001B[0m 32ms/step - accuracy: 0.8625 - loss: 0.4124 - val_accuracy: 0.9500 - val_loss: 0.3096\n",
      "Epoch 71/100\n",
      "\u001B[1m3/3\u001B[0m \u001B[32m━━━━━━━━━━━━━━━━━━━━\u001B[0m\u001B[37m\u001B[0m \u001B[1m0s\u001B[0m 26ms/step - accuracy: 0.8625 - loss: 0.4043 - val_accuracy: 0.9000 - val_loss: 0.2997\n",
      "Epoch 72/100\n",
      "\u001B[1m3/3\u001B[0m \u001B[32m━━━━━━━━━━━━━━━━━━━━\u001B[0m\u001B[37m\u001B[0m \u001B[1m0s\u001B[0m 29ms/step - accuracy: 0.8625 - loss: 0.3961 - val_accuracy: 0.9000 - val_loss: 0.2905\n",
      "Epoch 73/100\n",
      "\u001B[1m3/3\u001B[0m \u001B[32m━━━━━━━━━━━━━━━━━━━━\u001B[0m\u001B[37m\u001B[0m \u001B[1m0s\u001B[0m 27ms/step - accuracy: 0.8625 - loss: 0.3885 - val_accuracy: 0.9000 - val_loss: 0.2822\n",
      "Epoch 74/100\n",
      "\u001B[1m3/3\u001B[0m \u001B[32m━━━━━━━━━━━━━━━━━━━━\u001B[0m\u001B[37m\u001B[0m \u001B[1m0s\u001B[0m 29ms/step - accuracy: 0.8625 - loss: 0.3817 - val_accuracy: 0.9000 - val_loss: 0.2742\n",
      "Epoch 75/100\n",
      "\u001B[1m3/3\u001B[0m \u001B[32m━━━━━━━━━━━━━━━━━━━━\u001B[0m\u001B[37m\u001B[0m \u001B[1m0s\u001B[0m 29ms/step - accuracy: 0.8625 - loss: 0.3761 - val_accuracy: 0.9000 - val_loss: 0.2664\n",
      "Epoch 76/100\n",
      "\u001B[1m3/3\u001B[0m \u001B[32m━━━━━━━━━━━━━━━━━━━━\u001B[0m\u001B[37m\u001B[0m \u001B[1m0s\u001B[0m 27ms/step - accuracy: 0.8625 - loss: 0.3707 - val_accuracy: 0.9000 - val_loss: 0.2587\n",
      "Epoch 77/100\n",
      "\u001B[1m3/3\u001B[0m \u001B[32m━━━━━━━━━━━━━━━━━━━━\u001B[0m\u001B[37m\u001B[0m \u001B[1m0s\u001B[0m 29ms/step - accuracy: 0.8500 - loss: 0.3657 - val_accuracy: 0.9000 - val_loss: 0.2514\n",
      "Epoch 78/100\n",
      "\u001B[1m3/3\u001B[0m \u001B[32m━━━━━━━━━━━━━━━━━━━━\u001B[0m\u001B[37m\u001B[0m \u001B[1m0s\u001B[0m 37ms/step - accuracy: 0.8500 - loss: 0.3606 - val_accuracy: 0.9000 - val_loss: 0.2446\n",
      "Epoch 79/100\n",
      "\u001B[1m3/3\u001B[0m \u001B[32m━━━━━━━━━━━━━━━━━━━━\u001B[0m\u001B[37m\u001B[0m \u001B[1m0s\u001B[0m 40ms/step - accuracy: 0.8625 - loss: 0.3560 - val_accuracy: 0.9000 - val_loss: 0.2387\n",
      "Epoch 80/100\n",
      "\u001B[1m3/3\u001B[0m \u001B[32m━━━━━━━━━━━━━━━━━━━━\u001B[0m\u001B[37m\u001B[0m \u001B[1m0s\u001B[0m 24ms/step - accuracy: 0.8625 - loss: 0.3524 - val_accuracy: 0.9000 - val_loss: 0.2333\n",
      "Epoch 81/100\n",
      "\u001B[1m3/3\u001B[0m \u001B[32m━━━━━━━━━━━━━━━━━━━━\u001B[0m\u001B[37m\u001B[0m \u001B[1m0s\u001B[0m 26ms/step - accuracy: 0.8500 - loss: 0.3485 - val_accuracy: 0.9000 - val_loss: 0.2288\n",
      "Epoch 82/100\n",
      "\u001B[1m3/3\u001B[0m \u001B[32m━━━━━━━━━━━━━━━━━━━━\u001B[0m\u001B[37m\u001B[0m \u001B[1m0s\u001B[0m 26ms/step - accuracy: 0.8500 - loss: 0.3460 - val_accuracy: 0.9000 - val_loss: 0.2243\n",
      "Epoch 83/100\n",
      "\u001B[1m3/3\u001B[0m \u001B[32m━━━━━━━━━━━━━━━━━━━━\u001B[0m\u001B[37m\u001B[0m \u001B[1m0s\u001B[0m 28ms/step - accuracy: 0.8500 - loss: 0.3427 - val_accuracy: 0.9000 - val_loss: 0.2199\n",
      "Epoch 84/100\n",
      "\u001B[1m3/3\u001B[0m \u001B[32m━━━━━━━━━━━━━━━━━━━━\u001B[0m\u001B[37m\u001B[0m \u001B[1m0s\u001B[0m 27ms/step - accuracy: 0.8625 - loss: 0.3399 - val_accuracy: 0.9000 - val_loss: 0.2161\n",
      "Epoch 85/100\n",
      "\u001B[1m3/3\u001B[0m \u001B[32m━━━━━━━━━━━━━━━━━━━━\u001B[0m\u001B[37m\u001B[0m \u001B[1m0s\u001B[0m 28ms/step - accuracy: 0.8625 - loss: 0.3369 - val_accuracy: 0.9000 - val_loss: 0.2127\n",
      "Epoch 86/100\n",
      "\u001B[1m3/3\u001B[0m \u001B[32m━━━━━━━━━━━━━━━━━━━━\u001B[0m\u001B[37m\u001B[0m \u001B[1m0s\u001B[0m 29ms/step - accuracy: 0.8625 - loss: 0.3347 - val_accuracy: 0.9000 - val_loss: 0.2098\n",
      "Epoch 87/100\n",
      "\u001B[1m3/3\u001B[0m \u001B[32m━━━━━━━━━━━━━━━━━━━━\u001B[0m\u001B[37m\u001B[0m \u001B[1m0s\u001B[0m 46ms/step - accuracy: 0.8625 - loss: 0.3326 - val_accuracy: 0.9500 - val_loss: 0.2071\n",
      "Epoch 88/100\n",
      "\u001B[1m3/3\u001B[0m \u001B[32m━━━━━━━━━━━━━━━━━━━━\u001B[0m\u001B[37m\u001B[0m \u001B[1m0s\u001B[0m 42ms/step - accuracy: 0.8625 - loss: 0.3304 - val_accuracy: 0.9000 - val_loss: 0.2042\n",
      "Epoch 89/100\n",
      "\u001B[1m3/3\u001B[0m \u001B[32m━━━━━━━━━━━━━━━━━━━━\u001B[0m\u001B[37m\u001B[0m \u001B[1m0s\u001B[0m 44ms/step - accuracy: 0.8625 - loss: 0.3285 - val_accuracy: 0.9000 - val_loss: 0.2017\n",
      "Epoch 90/100\n",
      "\u001B[1m3/3\u001B[0m \u001B[32m━━━━━━━━━━━━━━━━━━━━\u001B[0m\u001B[37m\u001B[0m \u001B[1m0s\u001B[0m 33ms/step - accuracy: 0.8625 - loss: 0.3264 - val_accuracy: 0.9000 - val_loss: 0.1996\n",
      "Epoch 91/100\n",
      "\u001B[1m3/3\u001B[0m \u001B[32m━━━━━━━━━━━━━━━━━━━━\u001B[0m\u001B[37m\u001B[0m \u001B[1m0s\u001B[0m 28ms/step - accuracy: 0.8625 - loss: 0.3245 - val_accuracy: 0.9000 - val_loss: 0.1983\n",
      "Epoch 92/100\n",
      "\u001B[1m3/3\u001B[0m \u001B[32m━━━━━━━━━━━━━━━━━━━━\u001B[0m\u001B[37m\u001B[0m \u001B[1m0s\u001B[0m 26ms/step - accuracy: 0.8500 - loss: 0.3231 - val_accuracy: 0.9000 - val_loss: 0.1970\n",
      "Epoch 93/100\n",
      "\u001B[1m3/3\u001B[0m \u001B[32m━━━━━━━━━━━━━━━━━━━━\u001B[0m\u001B[37m\u001B[0m \u001B[1m0s\u001B[0m 30ms/step - accuracy: 0.8500 - loss: 0.3217 - val_accuracy: 0.9000 - val_loss: 0.1952\n",
      "Epoch 94/100\n",
      "\u001B[1m3/3\u001B[0m \u001B[32m━━━━━━━━━━━━━━━━━━━━\u001B[0m\u001B[37m\u001B[0m \u001B[1m0s\u001B[0m 30ms/step - accuracy: 0.8500 - loss: 0.3208 - val_accuracy: 0.9000 - val_loss: 0.1939\n",
      "Epoch 95/100\n",
      "\u001B[1m3/3\u001B[0m \u001B[32m━━━━━━━━━━━━━━━━━━━━\u001B[0m\u001B[37m\u001B[0m \u001B[1m0s\u001B[0m 37ms/step - accuracy: 0.8500 - loss: 0.3187 - val_accuracy: 0.9000 - val_loss: 0.1920\n",
      "Epoch 96/100\n",
      "\u001B[1m3/3\u001B[0m \u001B[32m━━━━━━━━━━━━━━━━━━━━\u001B[0m\u001B[37m\u001B[0m \u001B[1m0s\u001B[0m 28ms/step - accuracy: 0.8500 - loss: 0.3177 - val_accuracy: 0.9000 - val_loss: 0.1900\n",
      "Epoch 97/100\n",
      "\u001B[1m3/3\u001B[0m \u001B[32m━━━━━━━━━━━━━━━━━━━━\u001B[0m\u001B[37m\u001B[0m \u001B[1m0s\u001B[0m 28ms/step - accuracy: 0.8875 - loss: 0.3164 - val_accuracy: 0.9000 - val_loss: 0.1890\n",
      "Epoch 98/100\n",
      "\u001B[1m3/3\u001B[0m \u001B[32m━━━━━━━━━━━━━━━━━━━━\u001B[0m\u001B[37m\u001B[0m \u001B[1m0s\u001B[0m 27ms/step - accuracy: 0.8875 - loss: 0.3153 - val_accuracy: 0.9000 - val_loss: 0.1884\n",
      "Epoch 99/100\n",
      "\u001B[1m3/3\u001B[0m \u001B[32m━━━━━━━━━━━━━━━━━━━━\u001B[0m\u001B[37m\u001B[0m \u001B[1m0s\u001B[0m 28ms/step - accuracy: 0.8875 - loss: 0.3140 - val_accuracy: 0.9000 - val_loss: 0.1880\n",
      "Epoch 100/100\n",
      "\u001B[1m3/3\u001B[0m \u001B[32m━━━━━━━━━━━━━━━━━━━━\u001B[0m\u001B[37m\u001B[0m \u001B[1m0s\u001B[0m 26ms/step - accuracy: 0.8875 - loss: 0.3123 - val_accuracy: 0.9000 - val_loss: 0.1881\n"
     ]
    }
   ],
   "execution_count": 16
  },
  {
   "metadata": {
    "ExecuteTime": {
     "end_time": "2025-08-05T08:01:27.578615Z",
     "start_time": "2025-08-05T08:01:27.569141Z"
    }
   },
   "cell_type": "code",
   "source": "model.get_weights()",
   "id": "5653b92d7a0e8001",
   "outputs": [
    {
     "data": {
      "text/plain": [
       "[array([[-1.510419  ,  0.18860142,  0.7741646 ,  0.40529627,  1.8449653 ,\n",
       "          0.11219566,  0.83615834,  1.2779683 ,  1.1572156 , -1.1715264 ],\n",
       "        [-0.27902   , -0.08781502,  1.3938453 ,  0.94651943,  1.5537119 ,\n",
       "         -0.26112825, -0.6157898 ,  1.753764  , -1.0803249 , -1.0368952 ]],\n",
       "       dtype=float32),\n",
       " array([ 0.0331899 ,  0.21475875,  0.03125717, -0.00745352,  0.06980613,\n",
       "         0.17396802, -0.13686234, -0.01103627, -0.16765754, -0.01303337],\n",
       "       dtype=float32),\n",
       " array([[ 0.5141826 ,  0.3200461 , -0.13069738, -0.08320824, -0.75011086,\n",
       "          0.54058814,  1.050708  , -0.16079396, -0.17950019,  0.40898398],\n",
       "        [ 0.51293045,  0.26033366,  0.18251865, -0.93646103,  0.43042836,\n",
       "          0.14704774, -0.1773279 ,  0.57323277,  0.44367537,  0.12042453],\n",
       "        [-0.3264348 ,  0.36026073,  0.21993162, -0.6155237 , -0.5937914 ,\n",
       "         -0.04537527, -0.4670827 , -0.3679542 ,  0.29931772, -0.45352373],\n",
       "        [ 0.35203964,  0.4384554 , -0.41126484,  0.31047925,  0.5896712 ,\n",
       "          0.9908929 , -0.54829013, -0.79046154, -0.43619573, -0.41607913],\n",
       "        [ 0.24565804, -0.34912175,  0.14611124, -0.9108429 ,  0.6601656 ,\n",
       "         -0.50736266,  0.0025499 ,  1.0315868 , -0.19445975, -0.60950184],\n",
       "        [ 0.4955766 , -0.11434733, -0.15017903, -1.1449009 , -0.32854393,\n",
       "          0.02463463,  0.2719594 ,  1.0068187 , -0.30873314,  0.58725935],\n",
       "        [-0.4081789 , -0.66114956, -0.6074602 ,  0.86918926, -0.11102337,\n",
       "         -0.2886623 , -0.74485785,  0.05266701, -0.36594892, -0.16788842],\n",
       "        [-0.29953867, -0.35485724, -0.14433004, -0.16006361,  0.75352055,\n",
       "          0.8036362 ,  0.32741934, -0.00314284, -0.87832606,  0.15709743],\n",
       "        [ 0.4443699 , -0.2176343 , -0.04834721,  0.48220187, -0.7062734 ,\n",
       "         -0.5301769 , -0.2928777 , -0.22548646,  0.5687018 ,  0.8713157 ],\n",
       "        [-0.16178109, -0.96044934,  0.16202442, -0.14492197, -0.2835073 ,\n",
       "          0.36191282, -0.36903003,  0.00395705,  1.0180831 ,  0.01651336]],\n",
       "       dtype=float32),\n",
       " array([ 0.20028265,  0.0129006 , -0.07193858, -0.10682924, -0.04386498,\n",
       "         0.12739083,  0.03991983,  0.16993427, -0.04389097,  0.05766721],\n",
       "       dtype=float32),\n",
       " array([[ 7.8367382e-01,  1.1627190e-01, -5.2133006e-01,  5.6034839e-01,\n",
       "         -3.5344937e-01,  4.2993057e-01, -4.5718947e-01,  1.8139891e-01,\n",
       "          5.2372289e-01,  6.9687024e-02],\n",
       "        [ 4.6116024e-01, -4.1276014e-01,  7.7049941e-01,  7.2157067e-01,\n",
       "          6.4149666e-01, -8.9299917e-02,  6.8553902e-02, -8.7229347e-01,\n",
       "         -3.3489674e-01,  4.5098102e-01],\n",
       "        [-6.3624281e-01, -2.5496480e-01, -4.4253826e-01,  5.4540265e-02,\n",
       "         -4.6799636e-01, -2.9773578e-01, -6.7814058e-01,  3.7376729e-01,\n",
       "         -2.4700108e-01, -4.7888386e-01],\n",
       "        [ 2.7297488e-01, -4.4476420e-01,  9.0174550e-01,  4.1249402e-02,\n",
       "          1.9383012e-01,  8.8265434e-02, -4.1800994e-01, -4.6776977e-01,\n",
       "          4.3384293e-01, -2.4687128e-01],\n",
       "        [-7.3205709e-01, -2.4007356e-01,  5.8545196e-01,  6.6521829e-01,\n",
       "          1.0987273e-02,  3.3809540e-01,  1.2607136e-01,  4.0394887e-01,\n",
       "          6.4639145e-01,  4.0290508e-01],\n",
       "        [-6.6470104e-01, -4.9076229e-01,  8.7165642e-01,  2.9280999e-01,\n",
       "          7.2756779e-01,  4.0805522e-01,  1.0542521e+00,  2.2655345e-01,\n",
       "         -3.6995174e-05, -1.9205035e-01],\n",
       "        [-6.2172008e-01,  9.1694631e-02,  4.1914886e-01, -2.4019137e-01,\n",
       "         -2.1034574e-02,  8.2363993e-01,  2.2065604e-01,  9.2740163e-02,\n",
       "         -2.9051932e-02, -4.5281914e-01],\n",
       "        [ 6.9059259e-01,  6.9761145e-01, -8.8379525e-02, -5.7809800e-02,\n",
       "         -1.6746933e-02, -3.5959214e-01,  3.8409474e-01,  3.9804021e-01,\n",
       "          5.8927584e-01,  3.4613171e-01],\n",
       "        [ 1.8111216e-02,  2.2474913e-01, -3.3586869e-01,  3.5984245e-01,\n",
       "          1.2384369e-01,  8.9396787e-01, -1.6714476e-01,  6.2395167e-01,\n",
       "          9.7863421e-02, -4.8516038e-01],\n",
       "        [ 1.7197886e-01,  5.2012151e-01,  5.9050494e-01, -1.8592030e-01,\n",
       "         -4.9579966e-01, -3.9035752e-01,  3.1672353e-01, -4.7479045e-01,\n",
       "         -3.9602298e-01, -3.1602114e-02]], dtype=float32),\n",
       " array([ 0.1292043 ,  0.19976951, -0.10271305, -0.02505543,  0.03028892,\n",
       "        -0.08907232, -0.10263801,  0.02854616, -0.04292688,  0.05288383],\n",
       "       dtype=float32),\n",
       " array([[-0.82187754,  0.259145  , -0.5022474 , -0.1683748 ,  0.2251503 ,\n",
       "          0.5266114 , -0.19504751, -0.66430825,  0.23353173, -1.0030558 ],\n",
       "        [-0.29472092, -0.40694198, -0.6231034 , -0.32525548, -1.034696  ,\n",
       "          0.9594061 ,  0.52761436, -0.6478883 , -0.27565825,  0.3685408 ],\n",
       "        [ 0.88022393, -0.47506148, -0.0912607 ,  0.5951077 , -0.10133657,\n",
       "         -0.24675515,  0.03119711,  0.12544021, -0.13136572, -0.29533422],\n",
       "        [ 0.02507269, -0.12784001,  0.11622889,  0.5171948 ,  0.66147494,\n",
       "          0.9711897 ,  0.41992658,  0.90266573,  0.79373634, -0.61712676],\n",
       "        [ 0.39157087,  0.29325196,  0.6687543 ,  0.10246903,  0.8223567 ,\n",
       "         -0.12938698,  0.14746767,  0.22704858, -0.07400659,  0.6971496 ],\n",
       "        [ 0.15915132, -0.38119915,  1.1634266 ,  0.13742287, -0.4970795 ,\n",
       "          0.15035015,  0.4476183 , -0.28613517,  0.990996  ,  0.10145693],\n",
       "        [-0.05944832,  0.10805327,  0.4680377 , -0.19386528,  0.2193402 ,\n",
       "         -0.444333  ,  0.25069118, -0.55629534,  0.13750492,  0.04821796],\n",
       "        [-0.41638628, -0.13778017,  0.3440484 ,  0.9220219 , -0.4963828 ,\n",
       "         -0.05639695,  0.28096095, -0.79125965, -0.5047152 , -0.52858174],\n",
       "        [ 0.39048904,  0.42529625, -0.26086396,  0.94626194,  0.68282026,\n",
       "          0.41223404,  0.24057785,  0.27042678,  0.06014166, -0.01965987],\n",
       "        [-0.7452961 ,  0.0830749 , -0.30484742,  0.18359438,  0.11295495,\n",
       "          0.50531864, -0.1098908 , -0.66626865,  0.2754301 ,  0.5766932 ]],\n",
       "       dtype=float32),\n",
       " array([-0.10737881, -0.08025564,  0.01424311, -0.12535945, -0.01688409,\n",
       "         0.13302709, -0.12969053, -0.03687735, -0.11226547, -0.05604993],\n",
       "       dtype=float32),\n",
       " array([[-0.24117468],\n",
       "        [-0.34076223],\n",
       "        [-0.22530825],\n",
       "        [-0.09035772],\n",
       "        [-0.3350856 ],\n",
       "        [ 0.6738082 ],\n",
       "        [-0.05765475],\n",
       "        [-0.68777925],\n",
       "        [-0.72043186],\n",
       "        [ 0.68574476]], dtype=float32),\n",
       " array([0.16714363], dtype=float32)]"
      ]
     },
     "execution_count": 18,
     "metadata": {},
     "output_type": "execute_result"
    }
   ],
   "execution_count": 18
  },
  {
   "metadata": {
    "ExecuteTime": {
     "end_time": "2025-08-05T08:01:47.911907Z",
     "start_time": "2025-08-05T08:01:39.507331Z"
    }
   },
   "cell_type": "code",
   "source": [
    "from mlxtend.plotting import plot_decision_regions\n",
    "plot_decision_regions(X,y.astype('int'), clf=model, legend=2)"
   ],
   "id": "63c6bab130f1a6cd",
   "outputs": [
    {
     "name": "stdout",
     "output_type": "stream",
     "text": [
      "\u001B[1m9600/9600\u001B[0m \u001B[32m━━━━━━━━━━━━━━━━━━━━\u001B[0m\u001B[37m\u001B[0m \u001B[1m5s\u001B[0m 473us/step\n"
     ]
    },
    {
     "data": {
      "text/plain": [
       "<Axes: >"
      ]
     },
     "execution_count": 19,
     "metadata": {},
     "output_type": "execute_result"
    },
    {
     "data": {
      "text/plain": [
       "<Figure size 640x480 with 1 Axes>"
      ],
      "image/png": "[encoded data removed]"
     },
     "metadata": {},
     "output_type": "display_data"
    }
   ],
   "execution_count": 19
  },
  {
   "metadata": {
    "ExecuteTime": {
     "end_time": "2025-08-05T08:02:20.163644Z",
     "start_time": "2025-08-05T08:02:20.156134Z"
    }
   },
   "cell_type": "code",
   "source": "(np.random.randn(10,10)*0.01).min()",
   "id": "37c6b850321ac6bf",
   "outputs": [
    {
     "data": {
      "text/plain": [
       "np.float64(-0.026265550519165976)"
      ]
     },
     "execution_count": 20,
     "metadata": {},
     "output_type": "execute_result"
    }
   ],
   "execution_count": 20
  },
  {
   "metadata": {
    "ExecuteTime": {
     "end_time": "2025-08-05T08:02:32.233793Z",
     "start_time": "2025-08-05T08:02:32.227650Z"
    }
   },
   "cell_type": "code",
   "source": "(np.random.randn(10,10)*0.01).max()",
   "id": "ee43386c7e0d9cf9",
   "outputs": [
    {
     "data": {
      "text/plain": [
       "np.float64(0.025916805708798982)"
      ]
     },
     "execution_count": 21,
     "metadata": {},
     "output_type": "execute_result"
    }
   ],
   "execution_count": 21
  },
  {
   "metadata": {},
   "cell_type": "code",
   "outputs": [],
   "execution_count": null,
   "source": "",
   "id": "596eb291d2a5745a"
  }
 ],
 "metadata": {
  "kernelspec": {
   "display_name": "Python 3",
   "language": "python",
   "name": "python3"
  },
  "language_info": {
   "codemirror_mode": {
    "name": "ipython",
    "version": 2
   },
   "file_extension": ".py",
   "mimetype": "text/x-python",
   "name": "python",
   "nbconvert_exporter": "python",
   "pygments_lexer": "ipython2",
   "version": "2.7.6"
  }
 },
 "nbformat": 4,
 "nbformat_minor": 5
}
